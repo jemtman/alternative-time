{
 "cells": [
  {
   "cell_type": "code",
   "execution_count": 10,
   "metadata": {},
   "outputs": [],
   "source": [
    "#!python -m venv .venv\n",
    "#!pip install suntime\n",
    "#!pip install geopy\n",
    "#!pip install pipreqs\n",
    "#!pip install pyinstaller\n",
    "\n",
    "#some of the code here is adapted from https://www.geeksforgeeks.org/create-a-gui-to-get-sunset-and-sunrise-time-using-python/"
   ]
  },
  {
   "cell_type": "markdown",
   "metadata": {},
   "source": [
    "# Imports"
   ]
  },
  {
   "cell_type": "code",
   "execution_count": 13,
   "metadata": {},
   "outputs": [],
   "source": [
    "from datetime import datetime, date, timedelta\n",
    "import time as sleepy  # need to call it something else because 'time' collides with datetime stuff\n",
    "import os\n",
    "from suntime import Sun\n",
    "from geopy.geocoders import Nominatim\n",
    "from IPython.display import clear_output\n"
   ]
  },
  {
   "cell_type": "code",
   "execution_count": 11,
   "metadata": {},
   "outputs": [
    {
     "name": "stdout",
     "output_type": "stream",
     "text": [
      "\n",
      " ______  ____  ___ ___    ___  _      __ __      ______  ____  ___ ___    ___ \n",
      "|      ||    ||   |   |  /  _]| |    |  |  |    |      ||    ||   |   |  /  _]\n",
      "|      | |  | | _   _ | /  [_ | |    |  |  |    |      | |  | | _   _ | /  [_ \n",
      "|_|  |_| |  | |  \\_/  ||    _]| |___ |  ~  |    |_|  |_| |  | |  \\_/  ||    _]\n",
      "  |  |   |  | |   |   ||   [_ |     ||___, |      |  |   |  | |   |   ||   [_ \n",
      "  |  |   |  | |   |   ||     ||     ||     |      |  |   |  | |   |   ||     |\n",
      "  |__|  |____||___|___||_____||_____||____/       |__|  |____||___|___||_____|\n",
      "   A universal time format to draw ire.  \n",
      "     By Jeff Industries and Fabrication\n",
      "       MIT License    \n",
      "         v0.3 released 2022-10-03\n",
      "\n"
     ]
    }
   ],
   "source": [
    "print(\"\"\"\n",
    " ______  ____  ___ ___    ___  _      __ __      ______  ____  ___ ___    ___ \n",
    "|      ||    ||   |   |  /  _]| |    |  |  |    |      ||    ||   |   |  /  _]\n",
    "|      | |  | | _   _ | /  [_ | |    |  |  |    |      | |  | | _   _ | /  [_ \n",
    "|_|  |_| |  | |  \\_/  ||    _]| |___ |  ~  |    |_|  |_| |  | |  \\_/  ||    _]\n",
    "  |  |   |  | |   |   ||   [_ |     ||___, |      |  |   |  | |   |   ||   [_ \n",
    "  |  |   |  | |   |   ||     ||     ||     |      |  |   |  | |   |   ||     |\n",
    "  |__|  |____||___|___||_____||_____||____/       |__|  |____||___|___||_____|\n",
    "   A universal time format to draw ire.  \n",
    "     By Jeff Industries and Fabrication\n",
    "       MIT License    \n",
    "         v0.3 released 2022-10-03\n",
    "\"\"\")"
   ]
  },
  {
   "cell_type": "markdown",
   "metadata": {},
   "source": [
    "# Helpful vars and funcs\n",
    "some of these are probably unused"
   ]
  },
  {
   "cell_type": "code",
   "execution_count": null,
   "metadata": {},
   "outputs": [],
   "source": [
    "#most days have 86,400 seconds (I KNOW)\n",
    "tradtional_hours_in_day = 24\n",
    "traditional_minutes_daily = 1440\n",
    "traditional_seconds_daily = 86400\n",
    "\n",
    "new_hours_in_day = 100\n",
    "new_minutes_in_day = 10000\n",
    "new_seconds_in_day = 1000000\n"
   ]
  },
  {
   "cell_type": "code",
   "execution_count": 16,
   "metadata": {},
   "outputs": [],
   "source": [
    "def convertUTCto180thMeridian(in_datetime): \n",
    "    return in_datetime - timedelta(hours= 12)\n",
    "\n",
    "    \n",
    "def timeAt180thMeridian(): \n",
    "    '''Gets current time at 180th meridian in traditional datetime format'''\n",
    "    return datetime.utcnow() - timedelta(hours=12)\n",
    "\n",
    "def convertToTimely(in_time): \n",
    "    \"\"\"Returns a decimal, always <= 1.0.\"\"\"\n",
    "    \n",
    "    conv_total_seconds = in_time.hour * 3600 + in_time.minute *60 + in_time.second\n",
    "    conv_time_decimal = conv_total_seconds / traditional_seconds_daily\n",
    "\n",
    "    return conv_time_decimal\n",
    "\n",
    "    \n",
    "def calc_sunrise(): \n",
    "    return convertToTimely(\n",
    "        convertUTCto180thMeridian(\n",
    "            sun.get_sunrise_time()\n",
    "        )\n",
    "    )\n",
    "\n",
    "def calc_sunset(): \n",
    "    return convertToTimely(\n",
    "        convertUTCto180thMeridian(\n",
    "            sun.get_sunset_time()\n",
    "        )\n",
    "    )"
   ]
  },
  {
   "cell_type": "markdown",
   "metadata": {},
   "source": [
    "# Sun"
   ]
  },
  {
   "cell_type": "code",
   "execution_count": 14,
   "metadata": {},
   "outputs": [],
   "source": [
    "# Nominatim API to get latitude and longitude\n",
    "# User agent is name of app, probably so they can block if it gets too many requests. \n",
    "geolocator = Nominatim(user_agent=\"timely_time\")"
   ]
  },
  {
   "cell_type": "code",
   "execution_count": 15,
   "metadata": {},
   "outputs": [
    {
     "name": "stdout",
     "output_type": "stream",
     "text": [
      "Success!\n",
      "\t Seattle, King County, Washington, United States 47.6038321 -122.330062\n"
     ]
    }
   ],
   "source": [
    "location = None\n",
    "\n",
    "while location is None:  #this is a stupid way to do this, but geolocator will return a blank string if city not found\n",
    "    place = str(input(\"Enter city name: \").lower())\n",
    "    location = geolocator.geocode(place)\n",
    "    \n",
    "    \n",
    "    # latitude and longitude fetch\n",
    "    latitude = location.latitude\n",
    "    longitude = location.longitude\n",
    "\n",
    "    #sun object we'll pass to the sunrise/set calculators\n",
    "    sun = Sun(latitude, longitude)\n",
    "\n",
    "    if location is None:\n",
    "        print(\"No cities found named: \", place, \"It's either too small or misspelled.\\n------\\n\\n\") \n",
    "\n",
    "print(\"Success!\\n\\t\", location, latitude, longitude)\n",
    "\n"
   ]
  },
  {
   "cell_type": "markdown",
   "metadata": {},
   "source": [
    "# Time Output\n",
    "could definitely be optimized by not constantly re-calcing the sunrise/sunset"
   ]
  },
  {
   "cell_type": "code",
   "execution_count": null,
   "metadata": {},
   "outputs": [],
   "source": [
    "while True: \n",
    "    # Clear the output in jupyter\n",
    "    \n",
    "    clear_output(wait=True)\n",
    "    # Clear the output on standard out\n",
    "    os.system('cls')\n",
    "\n",
    "\n",
    "    timely_time = convertToTimely(timeAt180thMeridian())\n",
    "    sunrise = calc_sunrise()\n",
    "    sunset = calc_sunset()\n",
    "    \n",
    "    #doing fancy stuff with f-strings here to make sure that the float's always represented as 4 digits\n",
    "    print(f\"\"\"\n",
    "{location.address}\n",
    "Global Time  = {timely_time*100:.2f}\n",
    "☼▲ = {sunrise*100:.2f} || ☼▼ = {sunset*100:.2f}\n",
    "\"\"\"\n",
    "    )\n",
    "    sleepy.sleep(4) "
   ]
  },
  {
   "cell_type": "markdown",
   "metadata": {},
   "source": [
    "# Installation nonsense\n",
    "Things in here will generally be commented out, except when making new version."
   ]
  },
  {
   "cell_type": "code",
   "execution_count": 17,
   "metadata": {},
   "outputs": [
    {
     "name": "stderr",
     "output_type": "stream",
     "text": [
      "INFO: Successfully saved requirements file in c:\\Users\\jemtm_000\\Desktop\\alternative time\\requirements.txt\n"
     ]
    }
   ],
   "source": [
    "!pipreqs --encoding=utf8 --force"
   ]
  },
  {
   "cell_type": "code",
   "execution_count": null,
   "metadata": {},
   "outputs": [],
   "source": [
    "#!pyinstaller \"base_100_time_v0.3.py\" -y"
   ]
  }
 ],
 "metadata": {
  "kernelspec": {
   "display_name": "Python 3.7.9 ('.venv': venv)",
   "language": "python",
   "name": "python3"
  },
  "language_info": {
   "codemirror_mode": {
    "name": "ipython",
    "version": 3
   },
   "file_extension": ".py",
   "mimetype": "text/x-python",
   "name": "python",
   "nbconvert_exporter": "python",
   "pygments_lexer": "ipython3",
   "version": "3.7.9"
  },
  "orig_nbformat": 4,
  "vscode": {
   "interpreter": {
    "hash": "a33d0a57fa974304315534b3d02c7b19548d9841e1fa397d2dbd016eb81bfe87"
   }
  }
 },
 "nbformat": 4,
 "nbformat_minor": 2
}
